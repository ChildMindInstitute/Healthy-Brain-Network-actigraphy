{
 "cells": [
  {
   "cell_type": "code",
   "execution_count": null,
   "metadata": {
    "collapsed": true
   },
   "outputs": [],
   "source": [
    "data_dir = \"/Volumes/Data/Research/Healthy Brain Network/ActiGraph/gt3x_data\"\n",
    "subdirs = [\"in process\", \"processed\"]"
   ]
  },
  {
   "cell_type": "code",
   "execution_count": null,
   "metadata": {
    "collapsed": true
   },
   "outputs": [],
   "source": [
    "from datetime import datetime, timedelta\n",
    "import os\n",
    "import pandas as pd"
   ]
  },
  {
   "cell_type": "code",
   "execution_count": null,
   "metadata": {},
   "outputs": [],
   "source": [
    "def read_csvs(data_dir, subdirs):\n",
    "    \"\"\"\n",
    "    Function to read in all specified raw csvs.\n",
    "    \n",
    "    Parameters\n",
    "    ----------\n",
    "    data_dir : string\n",
    "        parent directory\n",
    "        \n",
    "    subdirs : list of strings\n",
    "        subdirectories\n",
    "        \n",
    "    Returns\n",
    "    -------\n",
    "    dfs : list of 3-tuples of strings, DataFrames, and strings\n",
    "        ([0], : string\n",
    "            filename\n",
    "        [1], : Dataframe\n",
    "            RAW csv file exported from ActiLife\n",
    "        [2]) : string\n",
    "            device serial number\n",
    "    \"\"\"\n",
    "    dfs = list()\n",
    "    for subdir in subdirs:\n",
    "        sd = os.path.join(data_dir, subdir)\n",
    "        for file in os.listdir(sd):\n",
    "            if file.endswith(\"RAW.csv\"):\n",
    "                fp = os.path.join(sd, file)\n",
    "                with open(fp) as f:\n",
    "                    f.readline()\n",
    "                    sn = f.readline()[15:]\n",
    "                dfs.append(\n",
    "                    (file,\n",
    "                     pd.read_csv(\n",
    "                         fp,\n",
    "                         header=10,\n",
    "                         parse_dates=[\"Timestamp\"],\n",
    "                         infer_datetime_format=True\n",
    "                        ),\n",
    "                        sn\n",
    "                    )\n",
    "                )\n",
    "                print(file)\n",
    "\n",
    "    return(dfs)"
   ]
  },
  {
   "cell_type": "code",
   "execution_count": null,
   "metadata": {},
   "outputs": [],
   "source": [
    "read_csvs(data_dir, subdirs)"
   ]
  },
  {
   "cell_type": "code",
   "execution_count": null,
   "metadata": {
    "collapsed": true
   },
   "outputs": [],
   "source": []
  }
 ],
 "metadata": {
  "kernelspec": {
   "display_name": "Python [default]",
   "language": "python",
   "name": "python3"
  },
  "language_info": {
   "codemirror_mode": {
    "name": "ipython",
    "version": 3
   },
   "file_extension": ".py",
   "mimetype": "text/x-python",
   "name": "python",
   "nbconvert_exporter": "python",
   "pygments_lexer": "ipython3",
   "version": "3.5.2"
  }
 },
 "nbformat": 4,
 "nbformat_minor": 2
}
