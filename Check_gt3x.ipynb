{
 "cells": [
  {
   "cell_type": "code",
   "execution_count": 7,
   "metadata": {
    "collapsed": true
   },
   "outputs": [],
   "source": [
    "data_dir = \"/Volumes/Data/Research/Healthy Brain Network/ActiGraph/gt3x_data\"\n",
    "subdirs = [\"in process\", \"processed\"]"
   ]
  },
  {
   "cell_type": "code",
   "execution_count": 47,
   "metadata": {
    "collapsed": true
   },
   "outputs": [],
   "source": [
    "from datetime import datetime, timedelta\n",
    "import os\n",
    "import numpy as np\n",
    "import pandas as pd\n",
    "import zipfile"
   ]
  },
  {
   "cell_type": "code",
   "execution_count": 33,
   "metadata": {
    "collapsed": true
   },
   "outputs": [],
   "source": [
    "def read_zips(data_dir, subdirs):\n",
    "    \"\"\"\n",
    "    Function to read in all specified raw csvs.\n",
    "    \n",
    "    Parameters\n",
    "    ----------\n",
    "    data_dir : string\n",
    "        parent directory\n",
    "        \n",
    "    subdirs : list of strings\n",
    "        subdirectories\n",
    "        \n",
    "    Returns\n",
    "    -------\n",
    "    dfs : list of 3-tuples of strings, DataFrames, and strings\n",
    "        ([0], : string\n",
    "            filename\n",
    "        [1], : Dataframe\n",
    "            RAW csv file exported from ActiLife\n",
    "        [2]) : string\n",
    "            device serial number\n",
    "    \"\"\"\n",
    "    dfs = list()\n",
    "    for subdir in subdirs:\n",
    "        sd = os.path.join(data_dir, subdir)\n",
    "        for file in os.listdir(sd):\n",
    "            if file.endswith(\".gt3x\"):\n",
    "                zp = os.path.join(sd, file)\n",
    "                zdict = {}\n",
    "                try:\n",
    "                    with zipfile.ZipFile(zp) as z:\n",
    "                        with z.open(\"info.txt\", \"r\") as f:\n",
    "                            for line in f:\n",
    "                                try:\n",
    "                                    key, value = line.decode(\"UTF-8\").split(\":\")\n",
    "                                    zdict[key] = value[1:-2]\n",
    "                                except:\n",
    "                                    continue\n",
    "                    dfs.append(zdict)\n",
    "                except:\n",
    "                    print(zp)\n",
    "    return(dfs)\n",
    "\n",
    "\n",
    "def ticks_to_datetime(ticks):\n",
    "    \"\"\"\n",
    "    Function to convert .NET ticks to datetime\n",
    "    \n",
    "    Parameter\n",
    "    ---------\n",
    "    ticks : int\n",
    "    \n",
    "    Returns\n",
    "    -------\n",
    "    dt : datetime\n",
    "    \"\"\"\n",
    "    return(datetime(1, 1, 1) + timedelta(microseconds = int(x)//10))"
   ]
  },
  {
   "cell_type": "code",
   "execution_count": 34,
   "metadata": {},
   "outputs": [
    {
     "name": "stdout",
     "output_type": "stream",
     "text": [
      "/Volumes/Data/Research/Healthy Brain Network/ActiGraph/gt3x_data/in process/5783223 (2017-09-14).gt3x\n"
     ]
    }
   ],
   "source": [
    "z = read_zips(data_dir, subdirs)"
   ]
  },
  {
   "cell_type": "code",
   "execution_count": 39,
   "metadata": {},
   "outputs": [],
   "source": [
    "df = pd.DataFrame.from_dict(z)"
   ]
  },
  {
   "cell_type": "code",
   "execution_count": 53,
   "metadata": {},
   "outputs": [
    {
     "data": {
      "text/plain": [
       "0    2017-08-03 12:25:00\n",
       "1    2017-08-17 12:34:00\n",
       "2    2017-08-17 12:34:00\n",
       "3    2017-08-30 17:51:00\n",
       "4    2017-08-02 17:54:00\n",
       "5    2017-08-23 13:26:00\n",
       "6    2017-08-24 14:17:00\n",
       "7    2017-07-27 16:39:00\n",
       "8    2017-08-24 13:19:00\n",
       "9    2017-08-07 17:04:00\n",
       "10   2017-08-04 18:06:00\n",
       "11   2017-08-31 12:32:00\n",
       "12   2017-08-09 13:56:00\n",
       "13   2017-09-01 13:23:00\n",
       "14   2017-08-10 18:21:00\n",
       "15   2017-08-11 12:29:00\n",
       "16   2017-08-04 13:14:00\n",
       "17   2017-08-30 13:00:00\n",
       "18   2017-08-21 13:15:00\n",
       "19   2017-08-09 17:50:00\n",
       "20   2017-08-22 17:00:00\n",
       "21   2017-08-10 12:52:00\n",
       "22   2017-08-14 16:29:00\n",
       "23   2017-08-07 17:13:00\n",
       "24   2017-08-12 12:52:00\n",
       "25   2017-08-30 12:01:00\n",
       "26   2017-08-07 12:20:00\n",
       "27   2017-08-05 15:32:00\n",
       "28   2017-08-31 16:21:00\n",
       "29   2017-07-28 17:20:00\n",
       "30   2017-07-27 12:13:00\n",
       "31   2017-08-08 16:42:00\n",
       "32   2017-09-06 17:28:00\n",
       "33   2017-08-21 18:11:00\n",
       "34   2017-08-01 12:09:00\n",
       "35   2017-08-31 12:36:00\n",
       "36   2017-07-28 12:45:00\n",
       "37   2017-08-10 18:10:00\n",
       "38   2017-08-18 11:41:00\n",
       "39   2017-08-24 12:25:00\n",
       "40   2017-09-01 16:08:00\n",
       "41   2017-08-30 16:35:00\n",
       "42   2017-08-30 14:25:00\n",
       "43   2017-09-06 11:56:00\n",
       "44   2017-08-22 15:26:00\n",
       "45   2017-07-28 16:31:00\n",
       "46   2017-08-23 12:56:00\n",
       "47   2017-07-27 16:19:00\n",
       "48   2017-08-04 17:24:00\n",
       "49   2017-07-28 12:41:00\n",
       "Name: Start Date, dtype: datetime64[ns]"
      ]
     },
     "execution_count": 53,
     "metadata": {},
     "output_type": "execute_result"
    }
   ],
   "source": [
    "df[\"Start Date\"].map(lambda x: )"
   ]
  },
  {
   "cell_type": "code",
   "execution_count": null,
   "metadata": {
    "collapsed": true
   },
   "outputs": [],
   "source": []
  }
 ],
 "metadata": {
  "kernelspec": {
   "display_name": "Python [default]",
   "language": "python",
   "name": "python3"
  },
  "language_info": {
   "codemirror_mode": {
    "name": "ipython",
    "version": 3
   },
   "file_extension": ".py",
   "mimetype": "text/x-python",
   "name": "python",
   "nbconvert_exporter": "python",
   "pygments_lexer": "ipython3",
   "version": "3.5.2"
  }
 },
 "nbformat": 4,
 "nbformat_minor": 2
}
