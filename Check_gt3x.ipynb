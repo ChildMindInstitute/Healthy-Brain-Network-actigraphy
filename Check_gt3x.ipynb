{
 "cells": [
  {
   "cell_type": "code",
   "execution_count": 1,
   "metadata": {
    "collapsed": true
   },
   "outputs": [],
   "source": [
    "data_dir = \"/Volumes/Data/Research/Healthy Brain Network/ActiGraph/gt3x_data\"\n",
    "wt = \"/Volumes/Jon.Clucas/weartime.csv\"\n",
    "subdirs = [\"in process\", \"processed\", \"raw\"]"
   ]
  },
  {
   "cell_type": "code",
   "execution_count": 2,
   "metadata": {
    "collapsed": true
   },
   "outputs": [],
   "source": [
    "import calendar\n",
    "from datetime import datetime, timedelta\n",
    "import os\n",
    "import numpy as np\n",
    "import pandas as pd\n",
    "import zipfile"
   ]
  },
  {
   "cell_type": "code",
   "execution_count": 3,
   "metadata": {
    "collapsed": true
   },
   "outputs": [],
   "source": [
    "weartime = pd.read_csv(wt)\n",
    "\n",
    "\n",
    "def add_weartime(df, weartime=weartime):\n",
    "    \"\"\"\n",
    "    Function to add weartime columns to a DataFrame\n",
    "    \n",
    "    Parameters\n",
    "    ----------\n",
    "    df : DataFrame\n",
    "    \n",
    "    weartime : DataFrame\n",
    "    \n",
    "    Returns\n",
    "    -------\n",
    "    df : DataFrame\n",
    "    \"\"\"\n",
    "    weartime = weartime[[\"Subject Name\", \"Wear Periods\", \"Non-Wear Periods\", \"Wear %\", \"Non-Wear %\"]]\n",
    "    df[\"merge column\"] = df[\"filename\"].apply(lambda x: str(x)[:-18])\n",
    "    df = df.merge(\n",
    "        weartime,\n",
    "        left_on='merge column',\n",
    "        right_on='Subject Name',\n",
    "        how='left'\n",
    "    ).copy()\n",
    "    df.drop(\"merge column\", axis=1, inplace=True)\n",
    "    return(df)\n",
    "\n",
    "\n",
    "def read_zips(data_dir, subdirs):\n",
    "    \"\"\"\n",
    "    Function to read in all specified raw csvs.\n",
    "    \n",
    "    Parameters\n",
    "    ----------\n",
    "    data_dir : string\n",
    "        parent directory\n",
    "        \n",
    "    subdirs : list of strings\n",
    "        subdirectories\n",
    "        \n",
    "    Returns\n",
    "    -------\n",
    "    dfs : dictionary\n",
    "        dictionary of filenames and RAW csv file exported from ActiLife\n",
    "    \"\"\"\n",
    "    dfs = list()\n",
    "    for subdir in subdirs:\n",
    "        sd = os.path.join(data_dir, subdir)\n",
    "        for file in os.listdir(sd):\n",
    "            if file.endswith(\".gt3x\"):\n",
    "                zp = os.path.join(sd, file)\n",
    "                zdict = {}\n",
    "                try:\n",
    "                    with zipfile.ZipFile(zp) as z:\n",
    "                        with z.open(\"info.txt\", \"r\") as f:\n",
    "                            zdict['filename'] = file\n",
    "                            for line in f:\n",
    "                                try:\n",
    "                                    key, value = line.decode(\"UTF-8\").split(\":\")\n",
    "                                    zdict[key] = value[1:-2]\n",
    "                                except:\n",
    "                                    continue\n",
    "                    dfs.append(zdict)\n",
    "                except:\n",
    "                    print(zp)\n",
    "    return(dfs)\n",
    "\n",
    "\n",
    "def ticks_to_datetime(ticks):\n",
    "    \"\"\"\n",
    "    Function to convert .NET ticks to datetime\n",
    "    \n",
    "    Parameter\n",
    "    ---------\n",
    "    ticks : int\n",
    "    \n",
    "    Returns\n",
    "    -------\n",
    "    dt : datetime\n",
    "    \"\"\"\n",
    "    return(datetime(1, 1, 1) + timedelta(microseconds = int(ticks)//10))"
   ]
  },
  {
   "cell_type": "code",
   "execution_count": 4,
   "metadata": {
    "collapsed": true
   },
   "outputs": [],
   "source": [
    "z = read_zips(data_dir, subdirs)"
   ]
  },
  {
   "cell_type": "code",
   "execution_count": 5,
   "metadata": {
    "collapsed": true
   },
   "outputs": [],
   "source": [
    "df = pd.DataFrame.from_dict(z)"
   ]
  },
  {
   "cell_type": "code",
   "execution_count": 6,
   "metadata": {
    "collapsed": true
   },
   "outputs": [],
   "source": [
    "for col in [\"Start Date\", \"Stop Date\", \"Download Date\", \"Last Sample Time\"]:\n",
    "    df[col] = df[col].map(lambda x: ticks_to_datetime(int(x)))"
   ]
  },
  {
   "cell_type": "code",
   "execution_count": 7,
   "metadata": {
    "collapsed": true
   },
   "outputs": [],
   "source": [
    "df[\"Days Recorded\"] = df[\"Last Sample Time\"].subtract(\n",
    "    df[\"Start Date\"]\n",
    ")\n",
    "df[\"Date Given\"] = df[\"Start Date\"].apply(lambda x: x.date())"
   ]
  },
  {
   "cell_type": "code",
   "execution_count": 8,
   "metadata": {
    "collapsed": true
   },
   "outputs": [],
   "source": [
    "df[\"End Month\"] = df[\"Last Sample Time\"].map(\n",
    "    lambda x: calendar.month_name[x.month]\n",
    ")\n",
    "df[\"End Month (numeric)\"] = df[\"Last Sample Time\"].map(\n",
    "    lambda x: x.month\n",
    ")"
   ]
  },
  {
   "cell_type": "code",
   "execution_count": 9,
   "metadata": {},
   "outputs": [
    {
     "data": {
      "text/html": [
       "<div>\n",
       "<style>\n",
       "    .dataframe thead tr:only-child th {\n",
       "        text-align: right;\n",
       "    }\n",
       "\n",
       "    .dataframe thead th {\n",
       "        text-align: left;\n",
       "    }\n",
       "\n",
       "    .dataframe tbody tr th {\n",
       "        vertical-align: top;\n",
       "    }\n",
       "</style>\n",
       "<table border=\"1\" class=\"dataframe\">\n",
       "  <thead>\n",
       "    <tr style=\"text-align: right;\">\n",
       "      <th></th>\n",
       "      <th>Sample Rate</th>\n",
       "      <th>30</th>\n",
       "      <th>60</th>\n",
       "    </tr>\n",
       "    <tr>\n",
       "      <th>End Month (numeric)</th>\n",
       "      <th>End Month</th>\n",
       "      <th></th>\n",
       "      <th></th>\n",
       "    </tr>\n",
       "  </thead>\n",
       "  <tbody>\n",
       "    <tr>\n",
       "      <th>7</th>\n",
       "      <th>July</th>\n",
       "      <td>1.0</td>\n",
       "      <td>NaN</td>\n",
       "    </tr>\n",
       "    <tr>\n",
       "      <th>8</th>\n",
       "      <th>August</th>\n",
       "      <td>1.0</td>\n",
       "      <td>15.0</td>\n",
       "    </tr>\n",
       "    <tr>\n",
       "      <th>9</th>\n",
       "      <th>September</th>\n",
       "      <td>10.0</td>\n",
       "      <td>29.0</td>\n",
       "    </tr>\n",
       "    <tr>\n",
       "      <th>10</th>\n",
       "      <th>October</th>\n",
       "      <td>10.0</td>\n",
       "      <td>12.0</td>\n",
       "    </tr>\n",
       "  </tbody>\n",
       "</table>\n",
       "</div>"
      ],
      "text/plain": [
       "Sample Rate                      30    60\n",
       "End Month (numeric) End Month            \n",
       "7                   July        1.0   NaN\n",
       "8                   August      1.0  15.0\n",
       "9                   September  10.0  29.0\n",
       "10                  October    10.0  12.0"
      ]
     },
     "execution_count": 9,
     "metadata": {},
     "output_type": "execute_result"
    }
   ],
   "source": [
    "pd.pivot_table(\n",
    "    df,\n",
    "    values=\"Days Recorded\",\n",
    "    index=[\"End Month (numeric)\", \"End Month\"],\n",
    "    columns=\"Sample Rate\",\n",
    "    aggfunc=\"count\"\n",
    ")"
   ]
  },
  {
   "cell_type": "code",
   "execution_count": 10,
   "metadata": {
    "collapsed": true
   },
   "outputs": [],
   "source": [
    "subtable = df[[\n",
    "    \"filename\",\n",
    "    \"Serial Number\",\n",
    "    \"Subject Name\",\n",
    "    \"Sample Rate\",\n",
    "    \"End Month\",\n",
    "    \"Days Recorded\",\n",
    "    \"Date Given\",\n",
    "    \"Start Date\",\n",
    "    \"Last Sample Time\"\n",
    "]].sort_values(by=[\n",
    "    \"Sample Rate\",\n",
    "    \"Start Date\",\n",
    "    \"Last Sample Time\"\n",
    "])"
   ]
  },
  {
   "cell_type": "code",
   "execution_count": 11,
   "metadata": {
    "collapsed": true
   },
   "outputs": [],
   "source": [
    "subtable = subtable.reset_index(drop=True)"
   ]
  },
  {
   "cell_type": "code",
   "execution_count": 12,
   "metadata": {
    "collapsed": true
   },
   "outputs": [],
   "source": [
    "returned = pd.read_excel(\n",
    "    \"/Volumes/Data/Research/Healthy Brain Network/ActiGraph/Devices_Returned.xlsx\"\n",
    ")\n",
    "returned[\"date_device_given\"] = returned[\"date_device_given\"].apply(\n",
    "                                    lambda x: datetime(\n",
    "                                        int(str(x)[:4]),\n",
    "                                        int(str(x)[4:-2]),\n",
    "                                        int(str(x)[-2:])\n",
    "                                    )\n",
    "                                )\n",
    "returned[\"Rand_ID\"] = returned[\"Rand_ID\"].astype(str)\n",
    "returned[\"device_nbr\"] = returned[\"device_nbr\"].apply(lambda x: str(x).upper())"
   ]
  },
  {
   "cell_type": "code",
   "execution_count": 13,
   "metadata": {
    "collapsed": true,
    "scrolled": false
   },
   "outputs": [],
   "source": [
    "have = returned.merge(\n",
    "    subtable,\n",
    "    how='left',\n",
    "    left_on=[\n",
    "        'Rand_ID',\n",
    "        'device_nbr'\n",
    "    ],\n",
    "    right_on=[\n",
    "        'Subject Name',\n",
    "        'Serial Number'\n",
    "    ]\n",
    ")\n",
    "missing = have.loc[have[\"filename\"].isnull()].copy()\n",
    "have = have.loc[~have[\"filename\"].isnull()].copy()\n",
    "have.date_device_given = have.date_device_given.apply(lambda x: x.date())"
   ]
  },
  {
   "cell_type": "code",
   "execution_count": 14,
   "metadata": {
    "collapsed": true
   },
   "outputs": [],
   "source": [
    "missing = returned.loc[returned[\"Rand_ID\"].isin(missing[\"Rand_ID\"])].copy()\n",
    "missing.reset_index()\n",
    "missing.date_device_given = missing.date_device_given.apply(lambda x: x.date())"
   ]
  },
  {
   "cell_type": "code",
   "execution_count": 15,
   "metadata": {
    "collapsed": true
   },
   "outputs": [],
   "source": [
    "missing = missing.merge(\n",
    "    subtable,\n",
    "    how='left',\n",
    "    left_on=[\n",
    "        'device_nbr',\n",
    "        'date_device_given'\n",
    "    ],\n",
    "    right_on=[\n",
    "        'Serial Number',\n",
    "        'Date Given'\n",
    "    ]\n",
    ")\n",
    "missing.sort_values(\"date_device_given\", inplace=True)"
   ]
  },
  {
   "cell_type": "code",
   "execution_count": 16,
   "metadata": {
    "collapsed": true
   },
   "outputs": [],
   "source": [
    "have = pd.concat(\n",
    "    [have, missing.loc[~missing[\"filename\"].isnull()].copy()],\n",
    "    ignore_index=True\n",
    ").sort_values(\"Date Given\").reset_index()"
   ]
  },
  {
   "cell_type": "code",
   "execution_count": 17,
   "metadata": {
    "collapsed": true
   },
   "outputs": [],
   "source": [
    "missing = missing.loc[missing[\"filename\"].isnull()].copy()"
   ]
  },
  {
   "cell_type": "code",
   "execution_count": 18,
   "metadata": {
    "collapsed": true
   },
   "outputs": [],
   "source": [
    "extra_files = subtable.loc[~subtable[\"filename\"].isin(have[\"filename\"])].sort_values(\n",
    "    \"Start Date\"\n",
    ").reset_index(drop=True)"
   ]
  },
  {
   "cell_type": "code",
   "execution_count": 19,
   "metadata": {
    "collapsed": true
   },
   "outputs": [],
   "source": [
    "missing = returned.loc[returned[\"Rand_ID\"].isin(missing[\"Rand_ID\"])].copy()\n",
    "missing.reset_index()\n",
    "missing.date_device_given = missing.date_device_given.apply(lambda x: x.date())\n",
    "missing = missing.merge(\n",
    "    extra_files,\n",
    "    how='left',\n",
    "    left_on=[\n",
    "        'device_nbr'\n",
    "    ],\n",
    "    right_on=[\n",
    "        'Serial Number'\n",
    "    ]\n",
    ")"
   ]
  },
  {
   "cell_type": "code",
   "execution_count": 20,
   "metadata": {
    "collapsed": true
   },
   "outputs": [],
   "source": [
    "missing_different_dates = missing.loc[~missing[\"filename\"].isnull()].copy()\n",
    "missing_different_dates[\"date_dif\"] = abs(\n",
    "    missing_different_dates[\"Date Given\"] -\n",
    "    missing_different_dates[\"date_device_given\"]\n",
    ").astype(int)\n",
    "\n",
    "mindif = {}\n",
    "minind = {}\n",
    "for x in set(missing_different_dates[\"Rand_ID\"]):\n",
    "    mindif[x] = min(missing_different_dates.loc[missing_different_dates[\"Rand_ID\"] == x][\"date_dif\"].values)\n",
    "    minind[x] = ((mindif[x] == missing_different_dates[\"date_dif\"]) & (x == missing_different_dates[\"Rand_ID\"]))\n",
    "missing_different_dates = missing_different_dates.loc[\n",
    "    sum(\n",
    "        missing_different_dates[\"Rand_ID\"].map(minind)\n",
    "    ).apply(lambda x: bool(x))\n",
    "].copy()\n",
    "missing_different_dates.drop(\"date_dif\", axis=1, inplace=True)"
   ]
  },
  {
   "cell_type": "code",
   "execution_count": 21,
   "metadata": {
    "collapsed": true
   },
   "outputs": [],
   "source": [
    "have = pd.concat(\n",
    "    [have, missing_different_dates],\n",
    "    ignore_index=True\n",
    ").sort_values(\"Date Given\").reset_index()\n",
    "missing = missing.loc[missing[\"filename\"].isnull()].copy().reset_index(drop=True)\n",
    "extra_files = subtable.loc[~subtable[\"filename\"].isin(have[\"filename\"])].sort_values(\n",
    "    \"Start Date\"\n",
    ").reset_index(drop=True)"
   ]
  },
  {
   "cell_type": "code",
   "execution_count": 30,
   "metadata": {},
   "outputs": [
    {
     "data": {
      "text/html": [
       "<div>\n",
       "<style>\n",
       "    .dataframe thead tr:only-child th {\n",
       "        text-align: right;\n",
       "    }\n",
       "\n",
       "    .dataframe thead th {\n",
       "        text-align: left;\n",
       "    }\n",
       "\n",
       "    .dataframe tbody tr th {\n",
       "        vertical-align: top;\n",
       "    }\n",
       "</style>\n",
       "<table border=\"1\" class=\"dataframe\">\n",
       "  <thead>\n",
       "    <tr style=\"text-align: right;\">\n",
       "      <th></th>\n",
       "      <th>filename</th>\n",
       "      <th>Serial Number</th>\n",
       "      <th>Subject Name</th>\n",
       "      <th>Sample Rate</th>\n",
       "      <th>End Month</th>\n",
       "      <th>Days Recorded</th>\n",
       "      <th>Date Given</th>\n",
       "      <th>Start Date</th>\n",
       "      <th>Last Sample Time</th>\n",
       "    </tr>\n",
       "  </thead>\n",
       "  <tbody>\n",
       "    <tr>\n",
       "      <th>6</th>\n",
       "      <td>5397290 (2017-10-16).gt3x</td>\n",
       "      <td>MOS2D17170104</td>\n",
       "      <td>5397290</td>\n",
       "      <td>60</td>\n",
       "      <td>September</td>\n",
       "      <td>23 days 16:16:00</td>\n",
       "      <td>2017-08-23</td>\n",
       "      <td>2017-08-23 18:09:00</td>\n",
       "      <td>2017-09-16 10:25:00</td>\n",
       "    </tr>\n",
       "  </tbody>\n",
       "</table>\n",
       "</div>"
      ],
      "text/plain": [
       "                    filename  Serial Number Subject Name Sample Rate  \\\n",
       "6  5397290 (2017-10-16).gt3x  MOS2D17170104      5397290          60   \n",
       "\n",
       "   End Month    Days Recorded  Date Given          Start Date  \\\n",
       "6  September 23 days 16:16:00  2017-08-23 2017-08-23 18:09:00   \n",
       "\n",
       "     Last Sample Time  \n",
       "6 2017-09-16 10:25:00  "
      ]
     },
     "execution_count": 30,
     "metadata": {},
     "output_type": "execute_result"
    }
   ],
   "source": [
    "extra_files.loc[extra_files[\"Date Given\"].isin(missing[\"date_device_given\"])].sort_values(\"Date Given\")"
   ]
  },
  {
   "cell_type": "code",
   "execution_count": 33,
   "metadata": {},
   "outputs": [],
   "source": [
    "extras = pd.DataFrame(columns = [\"Rand_ID\",\n",
    "    \"date_device_given\",\n",
    "    \"device_nbr_as_entered\",\n",
    "    \"device_nbr\",\n",
    "    \"filename\",\n",
    "    \"days recorded\",\n",
    "    \"Sample Rate\"])\n",
    "extras[[\n",
    "    \"Rand_ID\",\n",
    "    \"date_device_given\",\n",
    "    \"device_nbr_as_entered\",\n",
    "    \"device_nbr\",\n",
    "    \"filename\",\n",
    "    \"days recorded\",\n",
    "    \"Sample Rate\"\n",
    "]] = extra_files.sort_values(\"Date Given\")[[\n",
    "    \"Subject Name\",\n",
    "    \"Date Given\",\n",
    "    \"Serial Number\",\n",
    "    \"Serial Number\",\n",
    "    \"filename\",\n",
    "    \"Days Recorded\",\n",
    "    \"Sample Rate\"]]\n",
    "extras = add_weartime(extras)\n",
    "extras.loc[extras[\"\".to_csv(\n",
    "    \"/Volumes/Data/Research/Healthy Brain Network/ActiGraph/Extra_Files.csv\",\n",
    "    index=False\n",
    ")"
   ]
  },
  {
   "cell_type": "code",
   "execution_count": 24,
   "metadata": {
    "collapsed": true
   },
   "outputs": [],
   "source": [
    "have_too_many = have.loc[have.duplicated([\"Rand_ID\", \"date_device_given\"], False)]"
   ]
  },
  {
   "cell_type": "code",
   "execution_count": 25,
   "metadata": {
    "collapsed": true
   },
   "outputs": [],
   "source": [
    "returned_kids = dict()\n",
    "for kid in returned[\"Rand_ID\"]:\n",
    "    if kid in list(have[\"Rand_ID\"]):\n",
    "        returned_kids[kid] = (\n",
    "            str(set(\n",
    "                have_too_many.loc[have_too_many[\"Rand_ID\"] == kid][\"filename\"].values\n",
    "            )),\n",
    "            \"%.1f\" % round(np.mean(\n",
    "                have_too_many.loc[have_too_many[\"Rand_ID\"] == kid][\"Days Recorded\"].values\n",
    "                ) / np.timedelta64(1,'D'),\n",
    "                1\n",
    "            )\n",
    "        ) if kid in list(have_too_many[\"Rand_ID\"]) else ((\n",
    "            have.loc[have[\"Rand_ID\"] == kid][\"filename\"].values[0],\n",
    "            \"%.1f\" % round(\n",
    "                have.loc[have[\"Rand_ID\"] == kid][\"Days Recorded\"].values[0] / np.timedelta64(1,'D'),\n",
    "                1\n",
    "            )\n",
    "        ))\n",
    "returned_kids = pd.DataFrame.from_dict(returned_kids, orient='index')\n",
    "returned_kids.columns=[\"filename\", \"days recorded\"]"
   ]
  },
  {
   "cell_type": "code",
   "execution_count": 26,
   "metadata": {
    "collapsed": true
   },
   "outputs": [],
   "source": [
    "returned = returned.merge(\n",
    "    returned_kids, left_on=\"Rand_ID\", right_index=True, how='outer'\n",
    ").merge(\n",
    "    have[[\"Rand_ID\", \"Sample Rate\"]].drop_duplicates(), on=\"Rand_ID\", how=\"left\"\n",
    ").sort_values(\n",
    "    by=[\n",
    "        \"date_device_given\",\n",
    "        \"device_nbr\",\n",
    "        \"Rand_ID\"\n",
    "    ],\n",
    "    ascending=True\n",
    ").copy()\n",
    "add_weartime(returned).to_csv(\n",
    "    \"/Volumes/Data/Research/Healthy Brain Network/ActiGraph/Devices_Returned.csv\",\n",
    "    index=False\n",
    ")"
   ]
  },
  {
   "cell_type": "code",
   "execution_count": 27,
   "metadata": {},
   "outputs": [
    {
     "data": {
      "text/html": [
       "<div>\n",
       "<style>\n",
       "    .dataframe thead tr:only-child th {\n",
       "        text-align: right;\n",
       "    }\n",
       "\n",
       "    .dataframe thead th {\n",
       "        text-align: left;\n",
       "    }\n",
       "\n",
       "    .dataframe tbody tr th {\n",
       "        vertical-align: top;\n",
       "    }\n",
       "</style>\n",
       "<table border=\"1\" class=\"dataframe\">\n",
       "  <thead>\n",
       "    <tr style=\"text-align: right;\">\n",
       "      <th></th>\n",
       "      <th>Rand_ID</th>\n",
       "      <th>date_device_given</th>\n",
       "      <th>device_nbr_as_entered</th>\n",
       "      <th>device_nbr</th>\n",
       "      <th>filename</th>\n",
       "      <th>Serial Number</th>\n",
       "      <th>Subject Name</th>\n",
       "      <th>Sample Rate</th>\n",
       "      <th>End Month</th>\n",
       "      <th>Days Recorded</th>\n",
       "      <th>Date Given</th>\n",
       "      <th>Start Date</th>\n",
       "      <th>Last Sample Time</th>\n",
       "    </tr>\n",
       "  </thead>\n",
       "  <tbody>\n",
       "    <tr>\n",
       "      <th>0</th>\n",
       "      <td>5853502</td>\n",
       "      <td>2017-07-26</td>\n",
       "      <td>MOS2D17170072</td>\n",
       "      <td>MOS2D17170072</td>\n",
       "      <td>NaN</td>\n",
       "      <td>NaN</td>\n",
       "      <td>NaN</td>\n",
       "      <td>NaN</td>\n",
       "      <td>NaN</td>\n",
       "      <td>NaT</td>\n",
       "      <td>NaN</td>\n",
       "      <td>NaT</td>\n",
       "      <td>NaT</td>\n",
       "    </tr>\n",
       "    <tr>\n",
       "      <th>1</th>\n",
       "      <td>5960577</td>\n",
       "      <td>2017-07-27</td>\n",
       "      <td>MOS2D17170066</td>\n",
       "      <td>MOS2D17170066</td>\n",
       "      <td>NaN</td>\n",
       "      <td>NaN</td>\n",
       "      <td>NaN</td>\n",
       "      <td>NaN</td>\n",
       "      <td>NaN</td>\n",
       "      <td>NaT</td>\n",
       "      <td>NaN</td>\n",
       "      <td>NaT</td>\n",
       "      <td>NaT</td>\n",
       "    </tr>\n",
       "    <tr>\n",
       "      <th>2</th>\n",
       "      <td>5793522</td>\n",
       "      <td>2017-08-23</td>\n",
       "      <td>MOS2D17170032</td>\n",
       "      <td>MOS2D17170032</td>\n",
       "      <td>NaN</td>\n",
       "      <td>NaN</td>\n",
       "      <td>NaN</td>\n",
       "      <td>NaN</td>\n",
       "      <td>NaN</td>\n",
       "      <td>NaT</td>\n",
       "      <td>NaN</td>\n",
       "      <td>NaT</td>\n",
       "      <td>NaT</td>\n",
       "    </tr>\n",
       "    <tr>\n",
       "      <th>3</th>\n",
       "      <td>5223025</td>\n",
       "      <td>2017-08-23</td>\n",
       "      <td>MOS2D17170034</td>\n",
       "      <td>MOS2D17170034</td>\n",
       "      <td>NaN</td>\n",
       "      <td>NaN</td>\n",
       "      <td>NaN</td>\n",
       "      <td>NaN</td>\n",
       "      <td>NaN</td>\n",
       "      <td>NaT</td>\n",
       "      <td>NaN</td>\n",
       "      <td>NaT</td>\n",
       "      <td>NaT</td>\n",
       "    </tr>\n",
       "    <tr>\n",
       "      <th>4</th>\n",
       "      <td>5068348</td>\n",
       "      <td>2017-09-13</td>\n",
       "      <td>MOS2d17170016</td>\n",
       "      <td>MOS2D17170016</td>\n",
       "      <td>NaN</td>\n",
       "      <td>NaN</td>\n",
       "      <td>NaN</td>\n",
       "      <td>NaN</td>\n",
       "      <td>NaN</td>\n",
       "      <td>NaT</td>\n",
       "      <td>NaN</td>\n",
       "      <td>NaT</td>\n",
       "      <td>NaT</td>\n",
       "    </tr>\n",
       "  </tbody>\n",
       "</table>\n",
       "</div>"
      ],
      "text/plain": [
       "   Rand_ID date_device_given device_nbr_as_entered     device_nbr filename  \\\n",
       "0  5853502        2017-07-26         MOS2D17170072  MOS2D17170072      NaN   \n",
       "1  5960577        2017-07-27         MOS2D17170066  MOS2D17170066      NaN   \n",
       "2  5793522        2017-08-23         MOS2D17170032  MOS2D17170032      NaN   \n",
       "3  5223025        2017-08-23         MOS2D17170034  MOS2D17170034      NaN   \n",
       "4  5068348        2017-09-13         MOS2d17170016  MOS2D17170016      NaN   \n",
       "\n",
       "  Serial Number Subject Name Sample Rate End Month Days Recorded Date Given  \\\n",
       "0           NaN          NaN         NaN       NaN           NaT        NaN   \n",
       "1           NaN          NaN         NaN       NaN           NaT        NaN   \n",
       "2           NaN          NaN         NaN       NaN           NaT        NaN   \n",
       "3           NaN          NaN         NaN       NaN           NaT        NaN   \n",
       "4           NaN          NaN         NaN       NaN           NaT        NaN   \n",
       "\n",
       "  Start Date Last Sample Time  \n",
       "0        NaT              NaT  \n",
       "1        NaT              NaT  \n",
       "2        NaT              NaT  \n",
       "3        NaT              NaT  \n",
       "4        NaT              NaT  "
      ]
     },
     "execution_count": 27,
     "metadata": {},
     "output_type": "execute_result"
    }
   ],
   "source": [
    "missing"
   ]
  },
  {
   "cell_type": "code",
   "execution_count": null,
   "metadata": {
    "collapsed": true
   },
   "outputs": [],
   "source": []
  }
 ],
 "metadata": {
  "kernelspec": {
   "display_name": "Python 3",
   "language": "python",
   "name": "python3"
  },
  "language_info": {
   "codemirror_mode": {
    "name": "ipython",
    "version": 3
   },
   "file_extension": ".py",
   "mimetype": "text/x-python",
   "name": "python",
   "nbconvert_exporter": "python",
   "pygments_lexer": "ipython3",
   "version": "3.6.2"
  }
 },
 "nbformat": 4,
 "nbformat_minor": 2
}
