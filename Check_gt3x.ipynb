{
 "cells": [
  {
   "cell_type": "code",
   "execution_count": 1,
   "metadata": {
    "collapsed": true
   },
   "outputs": [],
   "source": [
    "data_dir = \"/Volumes/Data/Research/Healthy Brain Network/ActiGraph/gt3x_data\"\n",
    "subdirs = [\"in process\", \"processed\", \"raw\"]"
   ]
  },
  {
   "cell_type": "code",
   "execution_count": 12,
   "metadata": {
    "collapsed": true
   },
   "outputs": [],
   "source": [
    "import calendar\n",
    "from datetime import datetime, timedelta\n",
    "import os\n",
    "import numpy as np\n",
    "import pandas as pd\n",
    "import zipfile"
   ]
  },
  {
   "cell_type": "code",
   "execution_count": 3,
   "metadata": {
    "collapsed": true
   },
   "outputs": [],
   "source": [
    "def read_zips(data_dir, subdirs):\n",
    "    \"\"\"\n",
    "    Function to read in all specified raw csvs.\n",
    "    \n",
    "    Parameters\n",
    "    ----------\n",
    "    data_dir : string\n",
    "        parent directory\n",
    "        \n",
    "    subdirs : list of strings\n",
    "        subdirectories\n",
    "        \n",
    "    Returns\n",
    "    -------\n",
    "    dfs : list of 3-tuples of strings, DataFrames, and strings\n",
    "        ([0], : string\n",
    "            filename\n",
    "        [1], : Dataframe\n",
    "            RAW csv file exported from ActiLife\n",
    "        [2]) : string\n",
    "            device serial number\n",
    "    \"\"\"\n",
    "    dfs = list()\n",
    "    for subdir in subdirs:\n",
    "        sd = os.path.join(data_dir, subdir)\n",
    "        for file in os.listdir(sd):\n",
    "            if file.endswith(\".gt3x\"):\n",
    "                zp = os.path.join(sd, file)\n",
    "                zdict = {}\n",
    "                try:\n",
    "                    with zipfile.ZipFile(zp) as z:\n",
    "                        with z.open(\"info.txt\", \"r\") as f:\n",
    "                            for line in f:\n",
    "                                try:\n",
    "                                    key, value = line.decode(\"UTF-8\").split(\":\")\n",
    "                                    zdict[key] = value[1:-2]\n",
    "                                except:\n",
    "                                    continue\n",
    "                    dfs.append(zdict)\n",
    "                except:\n",
    "                    print(zp)\n",
    "    return(dfs)\n",
    "\n",
    "\n",
    "def ticks_to_datetime(ticks):\n",
    "    \"\"\"\n",
    "    Function to convert .NET ticks to datetime\n",
    "    \n",
    "    Parameter\n",
    "    ---------\n",
    "    ticks : int\n",
    "    \n",
    "    Returns\n",
    "    -------\n",
    "    dt : datetime\n",
    "    \"\"\"\n",
    "    return(datetime(1, 1, 1) + timedelta(microseconds = int(ticks)//10))"
   ]
  },
  {
   "cell_type": "code",
   "execution_count": 4,
   "metadata": {},
   "outputs": [
    {
     "name": "stdout",
     "output_type": "stream",
     "text": [
      "/Volumes/Data/Research/Healthy Brain Network/ActiGraph/gt3x_data/in process/5783223 (2017-09-14).gt3x\n"
     ]
    }
   ],
   "source": [
    "z = read_zips(data_dir, subdirs)"
   ]
  },
  {
   "cell_type": "code",
   "execution_count": 5,
   "metadata": {},
   "outputs": [],
   "source": [
    "df = pd.DataFrame.from_dict(z)"
   ]
  },
  {
   "cell_type": "code",
   "execution_count": 6,
   "metadata": {},
   "outputs": [],
   "source": [
    "for col in [\"Start Date\", \"Stop Date\", \"Download Date\", \"Last Sample Time\"]:\n",
    "    df[col] = df[col].map(lambda x: ticks_to_datetime(int(x)))"
   ]
  },
  {
   "cell_type": "code",
   "execution_count": 8,
   "metadata": {},
   "outputs": [],
   "source": [
    "df[\"Days Recorded\"] = df[\"Last Sample Time\"].subtract(df[\"Start Date\"])"
   ]
  },
  {
   "cell_type": "code",
   "execution_count": 14,
   "metadata": {},
   "outputs": [],
   "source": [
    "df[\"End Month\"] = df[\"Last Sample Time\"].map(lambda x: calendar.month_name[x.month])"
   ]
  },
  {
   "cell_type": "code",
   "execution_count": 34,
   "metadata": {},
   "outputs": [
    {
     "data": {
      "text/html": [
       "<div>\n",
       "<table border=\"1\" class=\"dataframe\">\n",
       "  <thead>\n",
       "    <tr style=\"text-align: right;\">\n",
       "      <th>Sample Rate</th>\n",
       "      <th>30</th>\n",
       "      <th>60</th>\n",
       "    </tr>\n",
       "    <tr>\n",
       "      <th>End Month</th>\n",
       "      <th></th>\n",
       "      <th></th>\n",
       "    </tr>\n",
       "  </thead>\n",
       "  <tbody>\n",
       "    <tr>\n",
       "      <th>August</th>\n",
       "      <td>1.0</td>\n",
       "      <td>13.0</td>\n",
       "    </tr>\n",
       "    <tr>\n",
       "      <th>July</th>\n",
       "      <td>1.0</td>\n",
       "      <td>NaN</td>\n",
       "    </tr>\n",
       "    <tr>\n",
       "      <th>October</th>\n",
       "      <td>5.0</td>\n",
       "      <td>2.0</td>\n",
       "    </tr>\n",
       "    <tr>\n",
       "      <th>September</th>\n",
       "      <td>10.0</td>\n",
       "      <td>26.0</td>\n",
       "    </tr>\n",
       "  </tbody>\n",
       "</table>\n",
       "</div>"
      ],
      "text/plain": [
       "Sample Rate    30    60\n",
       "End Month              \n",
       "August        1.0  13.0\n",
       "July          1.0   NaN\n",
       "October       5.0   2.0\n",
       "September    10.0  26.0"
      ]
     },
     "execution_count": 34,
     "metadata": {},
     "output_type": "execute_result"
    }
   ],
   "source": [
    "pd.pivot_table(df, values=\"Days Recorded\", index=\"End Month\", columns=\"Sample Rate\", aggfunc=\"count\")"
   ]
  },
  {
   "cell_type": "code",
   "execution_count": 39,
   "metadata": {},
   "outputs": [],
   "source": [
    "subtable = df[[\n",
    "    \"Serial Number\",\n",
    "    \"Subject Name\",\n",
    "    \"Sample Rate\",\n",
    "    \"End Month\",\n",
    "    \"Days Recorded\",\n",
    "    \"Start Date\",\n",
    "    \"Last Sample Time\"\n",
    "]].sort_values(by=[\n",
    "    \"Start Date\",\n",
    "    \"Last Sample Time\"\n",
    "])"
   ]
  },
  {
   "cell_type": "code",
   "execution_count": 45,
   "metadata": {},
   "outputs": [
    {
     "data": {
      "text/plain": [
       "count     58\n",
       "unique     2\n",
       "top       60\n",
       "freq      41\n",
       "Name: Sample Rate, dtype: object"
      ]
     },
     "execution_count": 45,
     "metadata": {},
     "output_type": "execute_result"
    }
   ],
   "source": [
    "subtable[\"Sample Rate\"].describe()"
   ]
  },
  {
   "cell_type": "code",
   "execution_count": null,
   "metadata": {
    "collapsed": true
   },
   "outputs": [],
   "source": []
  }
 ],
 "metadata": {
  "kernelspec": {
   "display_name": "Python [default]",
   "language": "python",
   "name": "python3"
  },
  "language_info": {
   "codemirror_mode": {
    "name": "ipython",
    "version": 3
   },
   "file_extension": ".py",
   "mimetype": "text/x-python",
   "name": "python",
   "nbconvert_exporter": "python",
   "pygments_lexer": "ipython3",
   "version": "3.5.2"
  }
 },
 "nbformat": 4,
 "nbformat_minor": 2
}
